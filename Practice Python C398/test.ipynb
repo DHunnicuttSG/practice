{
 "cells": [
  {
   "cell_type": "code",
   "execution_count": 21,
   "metadata": {},
   "outputs": [
    {
     "name": "stdout",
     "output_type": "stream",
     "text": [
      "2\n",
      "x is 3\n"
     ]
    }
   ],
   "source": [
    "for x in range(6):\n",
    "    if x < 2:\n",
    "        pass\n",
    "    elif x > 3:\n",
    "        continue\n",
    "    elif x == 3:\n",
    "        print('x is 3')\n",
    "        break\n",
    "    else:\n",
    "        x == 2, 'x is 2'\n",
    "        print(x)"
   ]
  },
  {
   "cell_type": "code",
   "execution_count": null,
   "metadata": {},
   "outputs": [],
   "source": [
    "a = {1, 2, 3}\n",
    "b = iter(a)\n",
    "next(b)\n",
    "print(type(a))"
   ]
  },
  {
   "cell_type": "code",
   "execution_count": null,
   "metadata": {},
   "outputs": [],
   "source": [
    "myList = [1,2,\"2\",3,3,4]\n",
    "mySet = set(myList)\n",
    "print(mySet)\n"
   ]
  },
  {
   "cell_type": "code",
   "execution_count": null,
   "metadata": {},
   "outputs": [],
   "source": [
    "lst = [2,]*3\n",
    "\n",
    "print(lst)"
   ]
  },
  {
   "cell_type": "code",
   "execution_count": null,
   "metadata": {},
   "outputs": [],
   "source": [
    "3 % 5"
   ]
  },
  {
   "cell_type": "code",
   "execution_count": null,
   "metadata": {},
   "outputs": [],
   "source": [
    "a = 22\n",
    "b = 44\n",
    "c = \"Python\"\n",
    "\n",
    "print(a + b + c)\n"
   ]
  },
  {
   "cell_type": "code",
   "execution_count": 14,
   "metadata": {},
   "outputs": [
    {
     "name": "stdout",
     "output_type": "stream",
     "text": [
      "20\n",
      "44\n"
     ]
    }
   ],
   "source": [
    "def addNums(*args):\n",
    "    total = 0\n",
    "    for x in args:\n",
    "        total += x\n",
    "    print(total)\n",
    "\n",
    "addNums(2, 4, 6, 8)\n",
    "addNums(-22, 66)"
   ]
  },
  {
   "cell_type": "code",
   "execution_count": 20,
   "metadata": {},
   "outputs": [
    {
     "name": "stdout",
     "output_type": "stream",
     "text": [
      "{'a': 1, 'b': 3, 'c': 7, 'd': 8}\n"
     ]
    }
   ],
   "source": [
    "dict = { 'a':1, 'b':3, 'c':7, 'd':8, 'e':12, 'f':15, 'g':20}\n",
    "def filterDict(*args):\n",
    "    filtered = {k: v for k, v in dict.items() if v < 9}\n",
    "    return filtered\n",
    "\n",
    "filter = filterDict(dict)\n",
    "print(filter)"
   ]
  }
 ],
 "metadata": {
  "kernelspec": {
   "display_name": "Python 3",
   "language": "python",
   "name": "python3"
  },
  "language_info": {
   "codemirror_mode": {
    "name": "ipython",
    "version": 3
   },
   "file_extension": ".py",
   "mimetype": "text/x-python",
   "name": "python",
   "nbconvert_exporter": "python",
   "pygments_lexer": "ipython3",
   "version": "3.10.7"
  }
 },
 "nbformat": 4,
 "nbformat_minor": 2
}
