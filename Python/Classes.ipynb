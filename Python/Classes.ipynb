{
 "cells": [
  {
   "cell_type": "code",
   "execution_count": null,
   "metadata": {},
   "outputs": [],
   "source": [
    "# Create a class\n",
    "\n",
    "class MyClass:\n",
    "    x = 7\n",
    "    y = 2\n",
    "\n",
    "# instantiate the class\n",
    "\n",
    "obj1 = MyClass()\n",
    "print(obj1.x, obj1.y)"
   ]
  }
 ],
 "metadata": {
  "language_info": {
   "name": "python"
  }
 },
 "nbformat": 4,
 "nbformat_minor": 2
}
