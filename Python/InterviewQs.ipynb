{
 "cells": [
  {
   "cell_type": "code",
   "execution_count": null,
   "metadata": {},
   "outputs": [],
   "source": [
    "# comparing contacts\n",
    "\n",
    "class Contact:\n",
    "    def __init__(self, name, email):\n",
    "        self.name = name\n",
    "        self.email = email\n",
    "\n",
    "    def __eq__(self, other):\n",
    "        return self.name == other.name and self.email == other.email\n",
    "\n",
    "    def __repr__(self):\n",
    "        return f\"Contact(name='{self.name}', email='{self.email}')\"\n",
    "\n",
    "def compare_contact_lists(list1, list2):\n",
    "    \"\"\"Compares two lists of Contact objects for equality and size.\"\"\"\n",
    "\n",
    "    # Check if the lists have the same size\n",
    "    if len(list1) != len(list2):\n",
    "        return False\n",
    "\n",
    "    # Check if each contact in list1 exists in list2\n",
    "    for contact1 in list1:\n",
    "        if contact1 not in list2:\n",
    "            return False\n",
    "\n",
    "    # Check if each contact in list2 exists in list1\n",
    "    for contact2 in list2:\n",
    "        if contact2 not in list1:\n",
    "            return False\n",
    "\n",
    "    # If all checks pass, the lists are equal\n",
    "    return True\n",
    "\n",
    "\n",
    "    # Test data\n",
    "contacts1 = [\n",
    "    Contact(\"Alice\", \"alice@example.com\"),\n",
    "    Contact(\"Bob\", \"bob@example.com\")\n",
    "]\n",
    "\n",
    "contacts2 = [\n",
    "    Contact(\"Bob\", \"bob@example.com\"),\n",
    "    Contact(\"Alice\", \"alice@example.com\"),\n",
    "    #Contact(\"Joe\", 'Joe@example.com')\n",
    "]\n",
    "\n",
    "if compare_contact_lists(contacts1, contacts2):\n",
    "    print(\"The lists are equal in size and content.\")\n",
    "else:\n",
    "    print(\"The lists are not equal.\")"
   ]
  },
  {
   "cell_type": "code",
   "execution_count": null,
   "metadata": {},
   "outputs": [],
   "source": [
    "# Decimal to Binary\n",
    "def decimal_to_binary(number):\n",
    "  \"\"\"\n",
    "  Converts a decimal number to binary without using the built-in \n",
    "  bin() function.\n",
    "  Args:\n",
    "    number: The decimal number to convert.\n",
    "  Returns:\n",
    "    The binary representation of the number as a string.\n",
    "  \"\"\"\n",
    "\n",
    "  if number == 0:\n",
    "    return \"0\"\n",
    "\n",
    "  binary = \"\"\n",
    "  while number > 0:\n",
    "    remainder = number % 2\n",
    "    binary = str(remainder) + binary\n",
    "    number //= 2\n",
    "\n",
    "  return binary\n",
    "\n",
    "print(decimal_to_binary(10))\n",
    "print(decimal_to_binary(42))"
   ]
  },
  {
   "cell_type": "code",
   "execution_count": null,
   "metadata": {},
   "outputs": [],
   "source": [
    "# method that will return the sum of all the digits\n",
    "def sum_of_digits(number):\n",
    "  \"\"\"Calculates the sum of all digits in a given number.\n",
    "  Args:\n",
    "    number: The number to calculate the sum of digits for.\n",
    "  Returns:\n",
    "    The sum of all digits in the number.\n",
    "  \"\"\"\n",
    "\n",
    "  sum = 0\n",
    "  while number > 0:\n",
    "    digit = number % 10\n",
    "    sum += digit\n",
    "    number //= 10\n",
    "  return sum\n",
    "\n",
    "print(sum_of_digits(999))\n",
    "print(sum_of_digits(598))\n",
    "print(sum_of_digits(1020))"
   ]
  },
  {
   "cell_type": "code",
   "execution_count": 13,
   "metadata": {},
   "outputs": [
    {
     "name": "stdout",
     "output_type": "stream",
     "text": [
      "[0, 1, 2, 3, 4, 5, 7, 8, 9, 11]\n"
     ]
    }
   ],
   "source": [
    "# Remove duplicates from a list\n",
    "def remove_duplicates(lst):\n",
    "  \"\"\"Removes duplicates from a list.\n",
    "  Args:\n",
    "    lst: The list to remove duplicates from.\n",
    "  Returns:\n",
    "    A new list containing only unique elements from the original list.\n",
    "  \"\"\"\n",
    "\n",
    "  unique_list = []\n",
    "  for item in lst:\n",
    "    if item not in unique_list:\n",
    "      unique_list.append(item)\n",
    "      unique_list.sort()\n",
    "  return unique_list\n",
    "\n",
    "mylist = [1,0,4,5,7,8,2,3,5,11,9,7,4,1,2,4,5,7,9,11,7,5,8,1,2,5]\n",
    "print(remove_duplicates(mylist))\n"
   ]
  }
 ],
 "metadata": {
  "kernelspec": {
   "display_name": "Python 3",
   "language": "python",
   "name": "python3"
  },
  "language_info": {
   "codemirror_mode": {
    "name": "ipython",
    "version": 3
   },
   "file_extension": ".py",
   "mimetype": "text/x-python",
   "name": "python",
   "nbconvert_exporter": "python",
   "pygments_lexer": "ipython3",
   "version": "3.10.7"
  }
 },
 "nbformat": 4,
 "nbformat_minor": 2
}
