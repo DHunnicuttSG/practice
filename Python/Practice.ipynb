{
 "cells": [
  {
   "cell_type": "code",
   "execution_count": null,
   "metadata": {},
   "outputs": [],
   "source": [
    "x = float(49)\n",
    "type(x)\n",
    "5 // 2\n",
    "5**2\n",
    "\n",
    "5 % 2\n",
    "\n",
    "print (\"This is a float: \" + str(x))\n",
    "print (f\"This is a float: {x}\")"
   ]
  },
  {
   "cell_type": "code",
   "execution_count": null,
   "metadata": {},
   "outputs": [],
   "source": [
    "def say_hello(x):\n",
    "    print(f\"Hello, {x}.\")\n",
    "\n",
    "x = input(\"What is your name? \")\n",
    "say_hello(x)\n"
   ]
  },
  {
   "cell_type": "code",
   "execution_count": null,
   "metadata": {},
   "outputs": [],
   "source": [
    "def my_sum(*args):\n",
    "    print(f'You entered {len(args)} arguments: {args}')\n",
    "\n",
    "my_sum(58,62,75,81,93,11)\n"
   ]
  },
  {
   "cell_type": "code",
   "execution_count": null,
   "metadata": {},
   "outputs": [],
   "source": [
    "def secretNumber():\n",
    "    One = int(input(\"Type a number between 1 and 10: \"))\n",
    "    \n",
    "    #if (1 <= One <= 10):\n",
    "    if (One >= 1 and One <=10):\n",
    "        Two = int(input(\"Type a number between 1 and 10: \"))\n",
    "        if (Two >=1 and Two <= 10):\n",
    "            print('Your secret number is: ' + str(One * Two))\n",
    "        else:\n",
    "            print('incorrect second value!')\n",
    "    else:\n",
    "        print(\"Incorrect first value!\")\n",
    "\n",
    "secretNumber()\n"
   ]
  },
  {
   "cell_type": "code",
   "execution_count": null,
   "metadata": {},
   "outputs": [],
   "source": [
    "import math\n",
    "\n",
    "def is_perfect_square(n):\n",
    "    if (1 <= n <= 1000):\n",
    "        sqrt_n = math.isqrt(n)\n",
    "        return sqrt_n * sqrt_n == n\n",
    "    return False\n",
    "\n",
    "for i in range(1, 1001):\n",
    "    if is_perfect_square(i):\n",
    "        print(f'{i} is a perfect square.')\n"
   ]
  },
  {
   "cell_type": "code",
   "execution_count": 8,
   "metadata": {},
   "outputs": [
    {
     "name": "stdout",
     "output_type": "stream",
     "text": [
      "1010\n"
     ]
    }
   ],
   "source": [
    "# create a method that will convert an integer to binary\n",
    "\n",
    "def int_to_bin(x):\n",
    "    myList = []\n",
    "    while (x > 0):\n",
    "        myList.append(str(x % 2))\n",
    "        x //= 2\n",
    "    return myList\n",
    "\n",
    "outList = int_to_bin(10)\n",
    "outList.reverse()\n",
    "print(''.join(outList))\n"
   ]
  },
  {
   "cell_type": "code",
   "execution_count": null,
   "metadata": {},
   "outputs": [],
   "source": [
    "msg = \"This is only a test...\\n\"\n",
    "print(msg * 10)"
   ]
  },
  {
   "cell_type": "code",
   "execution_count": null,
   "metadata": {},
   "outputs": [],
   "source": [
    "# Line continuation character is \"\\\"\n",
    "\n",
    "print \n",
    "(\"Python is fun!\")"
   ]
  },
  {
   "cell_type": "code",
   "execution_count": 1,
   "metadata": {},
   "outputs": [
    {
     "name": "stdout",
     "output_type": "stream",
     "text": [
      "0b1010\n"
     ]
    }
   ],
   "source": [
    "import math\n",
    "\n",
    "a = 10\n",
    "print(bin(a))\n"
   ]
  },
  {
   "cell_type": "code",
   "execution_count": 6,
   "metadata": {},
   "outputs": [
    {
     "data": {
      "text/plain": [
       "25"
      ]
     },
     "execution_count": 6,
     "metadata": {},
     "output_type": "execute_result"
    }
   ],
   "source": [
    "def square(x):\n",
    "    a = x*x\n",
    "    return a\n",
    "\n",
    "square(5)"
   ]
  },
  {
   "cell_type": "code",
   "execution_count": 7,
   "metadata": {},
   "outputs": [
    {
     "data": {
      "text/plain": [
       "148.4131591025766"
      ]
     },
     "execution_count": 7,
     "metadata": {},
     "output_type": "execute_result"
    }
   ],
   "source": [
    "import math\n",
    "# import math as m\n",
    "# from math import *\n",
    "\n",
    "\n",
    "math.exp(5)\n"
   ]
  },
  {
   "cell_type": "code",
   "execution_count": 11,
   "metadata": {},
   "outputs": [
    {
     "name": "stdout",
     "output_type": "stream",
     "text": [
      "20\n",
      "100\n"
     ]
    }
   ],
   "source": [
    "# Lambda function\n",
    "\n",
    "add_ten = lambda x: x + 10\n",
    "times_10 = lambda x: x*10\n",
    "\n",
    "print(add_ten(10))\n",
    "print(times_10(10))\n"
   ]
  },
  {
   "cell_type": "code",
   "execution_count": 3,
   "metadata": {},
   "outputs": [
    {
     "name": "stdout",
     "output_type": "stream",
     "text": [
      "3.10.7 (tags/v3.10.7:6cc6b13, Sep  5 2022, 14:08:36) [MSC v.1933 64 bit (AMD64)]\n"
     ]
    }
   ],
   "source": [
    "\n",
    "import sys\n",
    "\n",
    "print(sys.version)"
   ]
  }
 ],
 "metadata": {
  "kernelspec": {
   "display_name": "Python 3",
   "language": "python",
   "name": "python3"
  },
  "language_info": {
   "codemirror_mode": {
    "name": "ipython",
    "version": 3
   },
   "file_extension": ".py",
   "mimetype": "text/x-python",
   "name": "python",
   "nbconvert_exporter": "python",
   "pygments_lexer": "ipython3",
   "version": "3.10.7"
  }
 },
 "nbformat": 4,
 "nbformat_minor": 2
}
